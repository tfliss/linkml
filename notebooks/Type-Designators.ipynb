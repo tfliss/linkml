{
 "cells": [
  {
   "cell_type": "code",
   "execution_count": 1,
   "id": "09841f4a-d785-4fa8-8daf-2906c89007c6",
   "metadata": {
    "execution": {
     "iopub.execute_input": "2025-04-18T01:03:39.053697Z",
     "iopub.status.busy": "2025-04-18T01:03:39.053414Z",
     "iopub.status.idle": "2025-04-18T01:03:40.625345Z",
     "shell.execute_reply": "2025-04-18T01:03:40.624852Z"
    }
   },
   "outputs": [],
   "source": [
    "!pip install -q --disable-pip-version-check yamlmagic\n",
    "%load_ext yamlmagic"
   ]
  },
  {
   "cell_type": "code",
   "execution_count": 2,
   "id": "8327f543",
   "metadata": {
    "execution": {
     "iopub.execute_input": "2025-04-18T01:03:40.627615Z",
     "iopub.status.busy": "2025-04-18T01:03:40.627454Z",
     "iopub.status.idle": "2025-04-18T01:03:40.634529Z",
     "shell.execute_reply": "2025-04-18T01:03:40.634188Z"
    }
   },
   "outputs": [
    {
     "data": {
      "application/javascript": [
       "\n",
       "            require(\n",
       "                [\n",
       "                    \"notebook/js/codecell\",\n",
       "                    \"codemirror/mode/yaml/yaml\"\n",
       "                ],\n",
       "                function(cc){\n",
       "                    cc.CodeCell.options_default.highlight_modes.magic_yaml = {\n",
       "                        reg: [\"^%%yaml\"]\n",
       "                    }\n",
       "                }\n",
       "            );\n",
       "            "
      ],
      "text/plain": [
       "<IPython.core.display.Javascript object>"
      ]
     },
     "metadata": {},
     "output_type": "display_data"
    }
   ],
   "source": [
    "%%yaml model\n",
    "id: https://example.org/\n",
    "name: example\n",
    "prefixes:\n",
    "  example: https://example.org/\n",
    "  linkml: https://w3id.org/linkml/\n",
    "default_prefix: example\n",
    "default_range: string\n",
    "imports:\n",
    "  - linkml:types\n",
    "\n",
    "classes:\n",
    "  Thing:\n",
    "    attributes:\n",
    "      type:\n",
    "        designates_type: true\n",
    "  Vehicle:\n",
    "    is_a: Thing\n",
    "    attributes:\n",
    "      num_wheels:\n",
    "        range: integer\n",
    "  Building:\n",
    "    is_a: Thing\n",
    "    attributes:\n",
    "      num_floors:\n",
    "        range: integer\n",
    "        \n",
    "  Container:\n",
    "    attributes:\n",
    "      things:\n",
    "        range: Thing\n",
    "        multivalued: true\n",
    "    "
   ]
  },
  {
   "cell_type": "code",
   "execution_count": 3,
   "id": "25ad3561-ccb0-418b-b9f5-3d17ef13e343",
   "metadata": {
    "execution": {
     "iopub.execute_input": "2025-04-18T01:03:40.636457Z",
     "iopub.status.busy": "2025-04-18T01:03:40.636325Z",
     "iopub.status.idle": "2025-04-18T01:03:40.639858Z",
     "shell.execute_reply": "2025-04-18T01:03:40.639428Z"
    }
   },
   "outputs": [],
   "source": [
    "import yaml\n",
    "model_str = yaml.dump(model)"
   ]
  },
  {
   "cell_type": "code",
   "execution_count": 4,
   "id": "32188102",
   "metadata": {
    "execution": {
     "iopub.execute_input": "2025-04-18T01:03:40.641849Z",
     "iopub.status.busy": "2025-04-18T01:03:40.641684Z",
     "iopub.status.idle": "2025-04-18T01:03:40.955185Z",
     "shell.execute_reply": "2025-04-18T01:03:40.954826Z"
    }
   },
   "outputs": [],
   "source": [
    "from linkml_runtime.utils.schemaview import SchemaView"
   ]
  },
  {
   "cell_type": "code",
   "execution_count": 5,
   "id": "0c7a6094",
   "metadata": {
    "execution": {
     "iopub.execute_input": "2025-04-18T01:03:40.957141Z",
     "iopub.status.busy": "2025-04-18T01:03:40.956965Z",
     "iopub.status.idle": "2025-04-18T01:03:40.969216Z",
     "shell.execute_reply": "2025-04-18T01:03:40.968787Z"
    }
   },
   "outputs": [],
   "source": [
    "sv = SchemaView(model_str)\n",
    "schema = sv.schema"
   ]
  },
  {
   "cell_type": "code",
   "execution_count": 6,
   "id": "efdd443a",
   "metadata": {
    "execution": {
     "iopub.execute_input": "2025-04-18T01:03:40.971291Z",
     "iopub.status.busy": "2025-04-18T01:03:40.971127Z",
     "iopub.status.idle": "2025-04-18T01:03:41.310645Z",
     "shell.execute_reply": "2025-04-18T01:03:41.310282Z"
    }
   },
   "outputs": [],
   "source": [
    "from linkml.generators.pydanticgen import PydanticGenerator\n",
    "import yaml"
   ]
  },
  {
   "cell_type": "code",
   "execution_count": 7,
   "id": "00808b90",
   "metadata": {
    "execution": {
     "iopub.execute_input": "2025-04-18T01:03:41.312751Z",
     "iopub.status.busy": "2025-04-18T01:03:41.312378Z",
     "iopub.status.idle": "2025-04-18T01:03:41.315027Z",
     "shell.execute_reply": "2025-04-18T01:03:41.314695Z"
    }
   },
   "outputs": [],
   "source": [
    "import logging\n",
    "gen = PydanticGenerator(schema, log_level=logging.ERROR)"
   ]
  },
  {
   "cell_type": "code",
   "execution_count": 8,
   "id": "7acde179",
   "metadata": {
    "execution": {
     "iopub.execute_input": "2025-04-18T01:03:41.316542Z",
     "iopub.status.busy": "2025-04-18T01:03:41.316398Z",
     "iopub.status.idle": "2025-04-18T01:03:41.344666Z",
     "shell.execute_reply": "2025-04-18T01:03:41.344335Z"
    }
   },
   "outputs": [
    {
     "name": "stdout",
     "output_type": "stream",
     "text": [
      "from __future__ import annotations \n",
      "\n",
      "import re\n",
      "import sys\n",
      "from datetime import (\n",
      "    date,\n",
      "    datetime,\n",
      "    time\n",
      ")\n",
      "from decimal import Decimal \n",
      "from enum import Enum \n",
      "from typing import (\n",
      "    Any,\n",
      "    ClassVar,\n",
      "    Dict,\n",
      "    List,\n",
      "    Literal,\n",
      "    Optional,\n",
      "    Union\n",
      ")\n",
      "\n",
      "from pydantic import (\n",
      "    BaseModel,\n",
      "    ConfigDict,\n",
      "    Field,\n",
      "    RootModel,\n",
      "    field_validator\n",
      ")\n",
      "\n",
      "\n",
      "metamodel_version = \"None\"\n",
      "version = \"None\"\n",
      "\n",
      "\n",
      "class ConfiguredBaseModel(BaseModel):\n",
      "    model_config = ConfigDict(\n",
      "        validate_assignment = True,\n",
      "        validate_default = True,\n",
      "        extra = \"forbid\",\n",
      "        arbitrary_types_allowed = True,\n",
      "        use_enum_values = True,\n",
      "        strict = False,\n",
      "    )\n",
      "    pass\n",
      "\n",
      "\n",
      "\n",
      "\n",
      "class LinkMLMeta(RootModel):\n",
      "    root: Dict[str, Any] = {}\n",
      "    model_config = ConfigDict(frozen=True)\n",
      "\n",
      "    def __getattr__(self, key:str):\n",
      "        return getattr(self.root, key)\n",
      "\n",
      "    def __getitem__(self, key:str):\n",
      "        return self.root[key]\n",
      "\n",
      "    def __setitem__(self, key:str, value):\n",
      "        self.root[key] = value\n",
      "\n",
      "    def __contains__(self, key:str) -> bool:\n",
      "        return key in self.root\n",
      "\n",
      "\n",
      "linkml_meta = LinkMLMeta({'default_prefix': 'example',\n",
      "     'default_range': 'string',\n",
      "     'id': 'https://example.org/',\n",
      "     'imports': ['linkml:types'],\n",
      "     'name': 'example',\n",
      "     'prefixes': {'example': {'prefix_prefix': 'example',\n",
      "                              'prefix_reference': 'https://example.org/'},\n",
      "                  'linkml': {'prefix_prefix': 'linkml',\n",
      "                             'prefix_reference': 'https://w3id.org/linkml/'}}} )\n",
      "\n",
      "\n",
      "class Container(ConfiguredBaseModel):\n",
      "    linkml_meta: ClassVar[LinkMLMeta] = LinkMLMeta({'from_schema': 'https://example.org/'})\n",
      "\n",
      "    things: Optional[List[Union[Thing,Building,Vehicle]]] = Field(default=None, json_schema_extra = { \"linkml_meta\": {'alias': 'things', 'domain_of': ['Container']} })\n",
      "\n",
      "\n",
      "class Thing(ConfiguredBaseModel):\n",
      "    linkml_meta: ClassVar[LinkMLMeta] = LinkMLMeta({'from_schema': 'https://example.org/'})\n",
      "\n",
      "    type: Literal[\"Thing\"] = Field(default=\"Thing\", json_schema_extra = { \"linkml_meta\": {'alias': 'type', 'designates_type': True, 'domain_of': ['Thing']} })\n",
      "\n",
      "\n",
      "class Building(Thing):\n",
      "    linkml_meta: ClassVar[LinkMLMeta] = LinkMLMeta({'from_schema': 'https://example.org/'})\n",
      "\n",
      "    num_floors: Optional[int] = Field(default=None, json_schema_extra = { \"linkml_meta\": {'alias': 'num_floors', 'domain_of': ['Building']} })\n",
      "    type: Literal[\"Building\"] = Field(default=\"Building\", json_schema_extra = { \"linkml_meta\": {'alias': 'type', 'designates_type': True, 'domain_of': ['Thing']} })\n",
      "\n",
      "\n",
      "class Vehicle(Thing):\n",
      "    linkml_meta: ClassVar[LinkMLMeta] = LinkMLMeta({'from_schema': 'https://example.org/'})\n",
      "\n",
      "    num_wheels: Optional[int] = Field(default=None, json_schema_extra = { \"linkml_meta\": {'alias': 'num_wheels', 'domain_of': ['Vehicle']} })\n",
      "    type: Literal[\"Vehicle\"] = Field(default=\"Vehicle\", json_schema_extra = { \"linkml_meta\": {'alias': 'type', 'designates_type': True, 'domain_of': ['Thing']} })\n",
      "\n",
      "\n",
      "# Model rebuild\n",
      "# see https://pydantic-docs.helpmanual.io/usage/models/#rebuilding-a-model\n",
      "Container.model_rebuild()\n",
      "Thing.model_rebuild()\n",
      "Building.model_rebuild()\n",
      "Vehicle.model_rebuild()\n",
      "\n"
     ]
    }
   ],
   "source": [
    "print(gen.serialize())"
   ]
  },
  {
   "cell_type": "code",
   "execution_count": 9,
   "id": "ed4dae50",
   "metadata": {
    "execution": {
     "iopub.execute_input": "2025-04-18T01:03:41.346333Z",
     "iopub.status.busy": "2025-04-18T01:03:41.346201Z",
     "iopub.status.idle": "2025-04-18T01:03:41.356527Z",
     "shell.execute_reply": "2025-04-18T01:03:41.356036Z"
    }
   },
   "outputs": [],
   "source": [
    "mod = gen.compile_module()"
   ]
  },
  {
   "cell_type": "code",
   "execution_count": 10,
   "id": "68b8b0c1",
   "metadata": {
    "execution": {
     "iopub.execute_input": "2025-04-18T01:03:41.358280Z",
     "iopub.status.busy": "2025-04-18T01:03:41.358136Z",
     "iopub.status.idle": "2025-04-18T01:03:41.361246Z",
     "shell.execute_reply": "2025-04-18T01:03:41.360939Z"
    }
   },
   "outputs": [
    {
     "data": {
      "text/plain": [
       "Container(things=[Vehicle(type='Vehicle', num_wheels=2)])"
      ]
     },
     "execution_count": 10,
     "metadata": {},
     "output_type": "execute_result"
    }
   ],
   "source": [
    "mod.Container.model_validate({\"things\": [{\"type\": \"Vehicle\", \"num_wheels\": 2}]})"
   ]
  },
  {
   "cell_type": "code",
   "execution_count": 11,
   "id": "edd152f5",
   "metadata": {
    "execution": {
     "iopub.execute_input": "2025-04-18T01:03:41.362993Z",
     "iopub.status.busy": "2025-04-18T01:03:41.362879Z",
     "iopub.status.idle": "2025-04-18T01:03:41.419371Z",
     "shell.execute_reply": "2025-04-18T01:03:41.419011Z"
    }
   },
   "outputs": [],
   "source": [
    "import pytest"
   ]
  },
  {
   "cell_type": "code",
   "execution_count": 12,
   "id": "23f2c500",
   "metadata": {
    "execution": {
     "iopub.execute_input": "2025-04-18T01:03:41.421420Z",
     "iopub.status.busy": "2025-04-18T01:03:41.421137Z",
     "iopub.status.idle": "2025-04-18T01:03:41.423744Z",
     "shell.execute_reply": "2025-04-18T01:03:41.423421Z"
    }
   },
   "outputs": [],
   "source": [
    "with pytest.raises(ValueError):\n",
    "  mod.Container.model_validate({\"things\": [{\"type\": \"Vehicle\", \"num_floors\": 4}]})"
   ]
  },
  {
   "cell_type": "code",
   "execution_count": 13,
   "id": "46081bd4",
   "metadata": {
    "execution": {
     "iopub.execute_input": "2025-04-18T01:03:41.425236Z",
     "iopub.status.busy": "2025-04-18T01:03:41.425115Z",
     "iopub.status.idle": "2025-04-18T01:03:41.427787Z",
     "shell.execute_reply": "2025-04-18T01:03:41.427401Z"
    }
   },
   "outputs": [
    {
     "data": {
      "text/plain": [
       "Container(things=[Vehicle(type='Vehicle', num_wheels=2)])"
      ]
     },
     "execution_count": 13,
     "metadata": {},
     "output_type": "execute_result"
    }
   ],
   "source": [
    "mod.Container(things=[mod.Vehicle(num_wheels=2)])"
   ]
  },
  {
   "cell_type": "code",
   "execution_count": 14,
   "id": "3313a7d9",
   "metadata": {
    "execution": {
     "iopub.execute_input": "2025-04-18T01:03:41.429303Z",
     "iopub.status.busy": "2025-04-18T01:03:41.429158Z",
     "iopub.status.idle": "2025-04-18T01:03:41.431321Z",
     "shell.execute_reply": "2025-04-18T01:03:41.431007Z"
    }
   },
   "outputs": [],
   "source": [
    "with pytest.raises(ValueError):\n",
    "    mod.Container(things=[mod.Thing(type=\"Vehicle\", num_wheels=2)])"
   ]
  },
  {
   "cell_type": "markdown",
   "id": "da6303ed",
   "metadata": {},
   "source": [
    "## Change type designator range\n",
    "\n",
    "What happens if the range is a curie?"
   ]
  },
  {
   "cell_type": "code",
   "execution_count": 15,
   "id": "5a013aa6",
   "metadata": {
    "execution": {
     "iopub.execute_input": "2025-04-18T01:03:41.432914Z",
     "iopub.status.busy": "2025-04-18T01:03:41.432776Z",
     "iopub.status.idle": "2025-04-18T01:03:41.451561Z",
     "shell.execute_reply": "2025-04-18T01:03:41.451130Z"
    }
   },
   "outputs": [
    {
     "name": "stdout",
     "output_type": "stream",
     "text": [
      "from __future__ import annotations \n",
      "\n",
      "import re\n",
      "import sys\n",
      "from datetime import (\n",
      "    date,\n",
      "    datetime,\n",
      "    time\n",
      ")\n",
      "from decimal import Decimal \n",
      "from enum import Enum \n",
      "from typing import (\n",
      "    Any,\n",
      "    ClassVar,\n",
      "    Dict,\n",
      "    List,\n",
      "    Literal,\n",
      "    Optional,\n",
      "    Union\n",
      ")\n",
      "\n",
      "from pydantic import (\n",
      "    BaseModel,\n",
      "    ConfigDict,\n",
      "    Field,\n",
      "    RootModel,\n",
      "    field_validator\n",
      ")\n",
      "\n",
      "\n",
      "metamodel_version = \"None\"\n",
      "version = \"None\"\n",
      "\n",
      "\n",
      "class ConfiguredBaseModel(BaseModel):\n",
      "    model_config = ConfigDict(\n",
      "        validate_assignment = True,\n",
      "        validate_default = True,\n",
      "        extra = \"forbid\",\n",
      "        arbitrary_types_allowed = True,\n",
      "        use_enum_values = True,\n",
      "        strict = False,\n",
      "    )\n",
      "    pass\n",
      "\n",
      "\n",
      "\n",
      "\n",
      "class LinkMLMeta(RootModel):\n",
      "    root: Dict[str, Any] = {}\n",
      "    model_config = ConfigDict(frozen=True)\n",
      "\n",
      "    def __getattr__(self, key:str):\n",
      "        return getattr(self.root, key)\n",
      "\n",
      "    def __getitem__(self, key:str):\n",
      "        return self.root[key]\n",
      "\n",
      "    def __setitem__(self, key:str, value):\n",
      "        self.root[key] = value\n",
      "\n",
      "    def __contains__(self, key:str) -> bool:\n",
      "        return key in self.root\n",
      "\n",
      "\n",
      "linkml_meta = LinkMLMeta({'default_prefix': 'example',\n",
      "     'default_range': 'string',\n",
      "     'id': 'https://example.org/',\n",
      "     'imports': ['linkml:types'],\n",
      "     'name': 'example',\n",
      "     'prefixes': {'example': {'prefix_prefix': 'example',\n",
      "                              'prefix_reference': 'https://example.org/'},\n",
      "                  'linkml': {'prefix_prefix': 'linkml',\n",
      "                             'prefix_reference': 'https://w3id.org/linkml/'}}} )\n",
      "\n",
      "\n",
      "class Container(ConfiguredBaseModel):\n",
      "    linkml_meta: ClassVar[LinkMLMeta] = LinkMLMeta({'from_schema': 'https://example.org/'})\n",
      "\n",
      "    things: Optional[List[Union[Thing,Building,Vehicle]]] = Field(default=None, json_schema_extra = { \"linkml_meta\": {'alias': 'things', 'domain_of': ['Container']} })\n",
      "\n",
      "\n",
      "class Thing(ConfiguredBaseModel):\n",
      "    linkml_meta: ClassVar[LinkMLMeta] = LinkMLMeta({'from_schema': 'https://example.org/'})\n",
      "\n",
      "    type: Literal[\"https://example.org/Thing\",\"example:Thing\"] = Field(default=\"example:Thing\", json_schema_extra = { \"linkml_meta\": {'alias': 'type', 'designates_type': True, 'domain_of': ['Thing']} })\n",
      "\n",
      "\n",
      "class Building(Thing):\n",
      "    linkml_meta: ClassVar[LinkMLMeta] = LinkMLMeta({'from_schema': 'https://example.org/'})\n",
      "\n",
      "    num_floors: Optional[int] = Field(default=None, json_schema_extra = { \"linkml_meta\": {'alias': 'num_floors', 'domain_of': ['Building']} })\n",
      "    type: Literal[\"https://example.org/Building\",\"example:Building\"] = Field(default=\"example:Building\", json_schema_extra = { \"linkml_meta\": {'alias': 'type', 'designates_type': True, 'domain_of': ['Thing']} })\n",
      "\n",
      "\n",
      "class Vehicle(Thing):\n",
      "    linkml_meta: ClassVar[LinkMLMeta] = LinkMLMeta({'from_schema': 'https://example.org/'})\n",
      "\n",
      "    num_wheels: Optional[int] = Field(default=None, json_schema_extra = { \"linkml_meta\": {'alias': 'num_wheels', 'domain_of': ['Vehicle']} })\n",
      "    type: Literal[\"https://example.org/Vehicle\",\"example:Vehicle\"] = Field(default=\"example:Vehicle\", json_schema_extra = { \"linkml_meta\": {'alias': 'type', 'designates_type': True, 'domain_of': ['Thing']} })\n",
      "\n",
      "\n",
      "# Model rebuild\n",
      "# see https://pydantic-docs.helpmanual.io/usage/models/#rebuilding-a-model\n",
      "Container.model_rebuild()\n",
      "Thing.model_rebuild()\n",
      "Building.model_rebuild()\n",
      "Vehicle.model_rebuild()\n",
      "\n"
     ]
    }
   ],
   "source": [
    "schema.classes[\"Thing\"].attributes[\"type\"].range = \"uriorcurie\"\n",
    "gen = PydanticGenerator(schema, log_level=logging.ERROR)\n",
    "mod = gen.compile_module()\n",
    "print(gen.serialize())"
   ]
  },
  {
   "cell_type": "code",
   "execution_count": 16,
   "id": "73eacb9d",
   "metadata": {
    "execution": {
     "iopub.execute_input": "2025-04-18T01:03:41.453305Z",
     "iopub.status.busy": "2025-04-18T01:03:41.453151Z",
     "iopub.status.idle": "2025-04-18T01:03:41.456045Z",
     "shell.execute_reply": "2025-04-18T01:03:41.455738Z"
    }
   },
   "outputs": [
    {
     "data": {
      "text/plain": [
       "Container(things=[Vehicle(type='example:Vehicle', num_wheels=2)])"
      ]
     },
     "execution_count": 16,
     "metadata": {},
     "output_type": "execute_result"
    }
   ],
   "source": [
    "mod.Container.model_validate({\"things\": [{\"type\": \"example:Vehicle\", \"num_wheels\": 2}]})"
   ]
  },
  {
   "cell_type": "code",
   "execution_count": 17,
   "id": "161b1224",
   "metadata": {
    "execution": {
     "iopub.execute_input": "2025-04-18T01:03:41.457554Z",
     "iopub.status.busy": "2025-04-18T01:03:41.457433Z",
     "iopub.status.idle": "2025-04-18T01:03:41.476880Z",
     "shell.execute_reply": "2025-04-18T01:03:41.476508Z"
    }
   },
   "outputs": [
    {
     "name": "stdout",
     "output_type": "stream",
     "text": [
      "from __future__ import annotations \n",
      "\n",
      "import re\n",
      "import sys\n",
      "from datetime import (\n",
      "    date,\n",
      "    datetime,\n",
      "    time\n",
      ")\n",
      "from decimal import Decimal \n",
      "from enum import Enum \n",
      "from typing import (\n",
      "    Any,\n",
      "    ClassVar,\n",
      "    Dict,\n",
      "    List,\n",
      "    Literal,\n",
      "    Optional,\n",
      "    Union\n",
      ")\n",
      "\n",
      "from pydantic import (\n",
      "    BaseModel,\n",
      "    ConfigDict,\n",
      "    Field,\n",
      "    RootModel,\n",
      "    field_validator\n",
      ")\n",
      "\n",
      "\n",
      "metamodel_version = \"None\"\n",
      "version = \"None\"\n",
      "\n",
      "\n",
      "class ConfiguredBaseModel(BaseModel):\n",
      "    model_config = ConfigDict(\n",
      "        validate_assignment = True,\n",
      "        validate_default = True,\n",
      "        extra = \"forbid\",\n",
      "        arbitrary_types_allowed = True,\n",
      "        use_enum_values = True,\n",
      "        strict = False,\n",
      "    )\n",
      "    pass\n",
      "\n",
      "\n",
      "\n",
      "\n",
      "class LinkMLMeta(RootModel):\n",
      "    root: Dict[str, Any] = {}\n",
      "    model_config = ConfigDict(frozen=True)\n",
      "\n",
      "    def __getattr__(self, key:str):\n",
      "        return getattr(self.root, key)\n",
      "\n",
      "    def __getitem__(self, key:str):\n",
      "        return self.root[key]\n",
      "\n",
      "    def __setitem__(self, key:str, value):\n",
      "        self.root[key] = value\n",
      "\n",
      "    def __contains__(self, key:str) -> bool:\n",
      "        return key in self.root\n",
      "\n",
      "\n",
      "linkml_meta = LinkMLMeta({'default_prefix': 'example',\n",
      "     'default_range': 'string',\n",
      "     'id': 'https://example.org/',\n",
      "     'imports': ['linkml:types'],\n",
      "     'name': 'example',\n",
      "     'prefixes': {'example': {'prefix_prefix': 'example',\n",
      "                              'prefix_reference': 'https://example.org/'},\n",
      "                  'linkml': {'prefix_prefix': 'linkml',\n",
      "                             'prefix_reference': 'https://w3id.org/linkml/'}}} )\n",
      "\n",
      "\n",
      "class Container(ConfiguredBaseModel):\n",
      "    linkml_meta: ClassVar[LinkMLMeta] = LinkMLMeta({'from_schema': 'https://example.org/'})\n",
      "\n",
      "    things: Optional[List[Union[Thing,Building,Vehicle]]] = Field(default=None, json_schema_extra = { \"linkml_meta\": {'alias': 'things', 'domain_of': ['Container']} })\n",
      "\n",
      "\n",
      "class Thing(ConfiguredBaseModel):\n",
      "    linkml_meta: ClassVar[LinkMLMeta] = LinkMLMeta({'from_schema': 'https://example.org/'})\n",
      "\n",
      "    type: Literal[\"https://example.org/Thing\",\"example:Thing\"] = Field(default=\"https://example.org/Thing\", json_schema_extra = { \"linkml_meta\": {'alias': 'type', 'designates_type': True, 'domain_of': ['Thing']} })\n",
      "\n",
      "\n",
      "class Building(Thing):\n",
      "    linkml_meta: ClassVar[LinkMLMeta] = LinkMLMeta({'from_schema': 'https://example.org/'})\n",
      "\n",
      "    num_floors: Optional[int] = Field(default=None, json_schema_extra = { \"linkml_meta\": {'alias': 'num_floors', 'domain_of': ['Building']} })\n",
      "    type: Literal[\"https://example.org/Building\",\"example:Building\"] = Field(default=\"https://example.org/Building\", json_schema_extra = { \"linkml_meta\": {'alias': 'type', 'designates_type': True, 'domain_of': ['Thing']} })\n",
      "\n",
      "\n",
      "class Vehicle(Thing):\n",
      "    linkml_meta: ClassVar[LinkMLMeta] = LinkMLMeta({'from_schema': 'https://example.org/'})\n",
      "\n",
      "    num_wheels: Optional[int] = Field(default=None, json_schema_extra = { \"linkml_meta\": {'alias': 'num_wheels', 'domain_of': ['Vehicle']} })\n",
      "    type: Literal[\"https://example.org/Vehicle\",\"example:Vehicle\"] = Field(default=\"https://example.org/Vehicle\", json_schema_extra = { \"linkml_meta\": {'alias': 'type', 'designates_type': True, 'domain_of': ['Thing']} })\n",
      "\n",
      "\n",
      "# Model rebuild\n",
      "# see https://pydantic-docs.helpmanual.io/usage/models/#rebuilding-a-model\n",
      "Container.model_rebuild()\n",
      "Thing.model_rebuild()\n",
      "Building.model_rebuild()\n",
      "Vehicle.model_rebuild()\n",
      "\n"
     ]
    }
   ],
   "source": [
    "schema.classes[\"Thing\"].attributes[\"type\"].range = \"uri\"\n",
    "gen = PydanticGenerator(schema, log_level=logging.ERROR)\n",
    "mod = gen.compile_module()\n",
    "print(gen.serialize())"
   ]
  },
  {
   "cell_type": "markdown",
   "id": "57680a2d",
   "metadata": {},
   "source": [
    "## Data Classes"
   ]
  },
  {
   "cell_type": "raw",
   "id": "3c4eddde-e8ec-4259-a3c2-d79fbd47452f",
   "metadata": {},
   "source": [
    "from linkml.generators.pythongen import PythonGenerator\n",
    "import logging\n",
    "\n",
    "# Note: Jupyter appears to generate output even if the log_level is set.\n",
    "gen = PythonGenerator(model, log_level=logging.ERROR)\n",
    "print(gen.serialize())"
   ]
  },
  {
   "cell_type": "markdown",
   "id": "673e03c5",
   "metadata": {},
   "source": [
    "## Any Of"
   ]
  },
  {
   "cell_type": "code",
   "execution_count": 18,
   "id": "5471eebf",
   "metadata": {
    "execution": {
     "iopub.execute_input": "2025-04-18T01:03:41.478723Z",
     "iopub.status.busy": "2025-04-18T01:03:41.478586Z",
     "iopub.status.idle": "2025-04-18T01:03:41.483858Z",
     "shell.execute_reply": "2025-04-18T01:03:41.483521Z"
    }
   },
   "outputs": [
    {
     "data": {
      "application/javascript": [
       "\n",
       "            require(\n",
       "                [\n",
       "                    \"notebook/js/codecell\",\n",
       "                    \"codemirror/mode/yaml/yaml\"\n",
       "                ],\n",
       "                function(cc){\n",
       "                    cc.CodeCell.options_default.highlight_modes.magic_yaml = {\n",
       "                        reg: [\"^%%yaml\"]\n",
       "                    }\n",
       "                }\n",
       "            );\n",
       "            "
      ],
      "text/plain": [
       "<IPython.core.display.Javascript object>"
      ]
     },
     "metadata": {},
     "output_type": "display_data"
    }
   ],
   "source": [
    "%%yaml model\n",
    "id: https://example.org/\n",
    "name: example\n",
    "prefixes:\n",
    "  example: https://example.org/\n",
    "  linkml: https://w3id.org/linkml/\n",
    "default_prefix: example\n",
    "imports:\n",
    "  - linkml:types\n",
    "\n",
    "classes:\n",
    "  Thing:\n",
    "    attributes:\n",
    "      type:\n",
    "        designates_type: true\n",
    "        range: string\n",
    "  Vehicle:\n",
    "    is_a: Thing\n",
    "    attributes:\n",
    "      num_wheels:\n",
    "        range: integer\n",
    "  Car:\n",
    "    is_a: Vehicle\n",
    "    slot_usage:\n",
    "      num_wheels:\n",
    "        equals_expression: \"2\"\n",
    "  Bicycle:\n",
    "    is_a: Vehicle\n",
    "    slot_usage:\n",
    "      num_wheels:\n",
    "        equals_expression: \"4\"\n",
    "  Building:\n",
    "    is_a: Thing\n",
    "    attributes:\n",
    "      num_floors:\n",
    "        range: integer\n",
    "        \n",
    "  Container:\n",
    "    attributes:\n",
    "      things:\n",
    "        any_of:\n",
    "          - range: Vehicle\n",
    "          - range: Building\n",
    "        multivalued: true\n",
    "    "
   ]
  },
  {
   "cell_type": "code",
   "execution_count": 19,
   "id": "eb108020",
   "metadata": {
    "execution": {
     "iopub.execute_input": "2025-04-18T01:03:41.485573Z",
     "iopub.status.busy": "2025-04-18T01:03:41.485416Z",
     "iopub.status.idle": "2025-04-18T01:03:41.527049Z",
     "shell.execute_reply": "2025-04-18T01:03:41.526715Z"
    }
   },
   "outputs": [],
   "source": [
    "model_str = yaml.dump(model)\n",
    "sv = SchemaView(model_str)\n",
    "schema = sv.schema"
   ]
  },
  {
   "cell_type": "code",
   "execution_count": 20,
   "id": "5125a057",
   "metadata": {
    "execution": {
     "iopub.execute_input": "2025-04-18T01:03:41.529333Z",
     "iopub.status.busy": "2025-04-18T01:03:41.529055Z",
     "iopub.status.idle": "2025-04-18T01:03:41.555087Z",
     "shell.execute_reply": "2025-04-18T01:03:41.554633Z"
    }
   },
   "outputs": [
    {
     "name": "stdout",
     "output_type": "stream",
     "text": [
      "from __future__ import annotations \n",
      "\n",
      "import re\n",
      "import sys\n",
      "from datetime import (\n",
      "    date,\n",
      "    datetime,\n",
      "    time\n",
      ")\n",
      "from decimal import Decimal \n",
      "from enum import Enum \n",
      "from typing import (\n",
      "    Any,\n",
      "    ClassVar,\n",
      "    Dict,\n",
      "    List,\n",
      "    Literal,\n",
      "    Optional,\n",
      "    Union\n",
      ")\n",
      "\n",
      "from pydantic import (\n",
      "    BaseModel,\n",
      "    ConfigDict,\n",
      "    Field,\n",
      "    RootModel,\n",
      "    field_validator\n",
      ")\n",
      "\n",
      "\n",
      "metamodel_version = \"None\"\n",
      "version = \"None\"\n",
      "\n",
      "\n",
      "class ConfiguredBaseModel(BaseModel):\n",
      "    model_config = ConfigDict(\n",
      "        validate_assignment = True,\n",
      "        validate_default = True,\n",
      "        extra = \"forbid\",\n",
      "        arbitrary_types_allowed = True,\n",
      "        use_enum_values = True,\n",
      "        strict = False,\n",
      "    )\n",
      "    pass\n",
      "\n",
      "\n",
      "\n",
      "\n",
      "class LinkMLMeta(RootModel):\n",
      "    root: Dict[str, Any] = {}\n",
      "    model_config = ConfigDict(frozen=True)\n",
      "\n",
      "    def __getattr__(self, key:str):\n",
      "        return getattr(self.root, key)\n",
      "\n",
      "    def __getitem__(self, key:str):\n",
      "        return self.root[key]\n",
      "\n",
      "    def __setitem__(self, key:str, value):\n",
      "        self.root[key] = value\n",
      "\n",
      "    def __contains__(self, key:str) -> bool:\n",
      "        return key in self.root\n",
      "\n",
      "\n",
      "linkml_meta = LinkMLMeta({'default_prefix': 'example',\n",
      "     'id': 'https://example.org/',\n",
      "     'imports': ['linkml:types'],\n",
      "     'name': 'example',\n",
      "     'prefixes': {'example': {'prefix_prefix': 'example',\n",
      "                              'prefix_reference': 'https://example.org/'},\n",
      "                  'linkml': {'prefix_prefix': 'linkml',\n",
      "                             'prefix_reference': 'https://w3id.org/linkml/'}}} )\n",
      "\n",
      "\n",
      "class Container(ConfiguredBaseModel):\n",
      "    linkml_meta: ClassVar[LinkMLMeta] = LinkMLMeta({'from_schema': 'https://example.org/'})\n",
      "\n",
      "    things: Optional[List[Union[Building, Union[Vehicle,Bicycle,Car]]]] = Field(default=None, json_schema_extra = { \"linkml_meta\": {'alias': 'things',\n",
      "         'any_of': [{'range': 'Vehicle'}, {'range': 'Building'}],\n",
      "         'domain_of': ['Container']} })\n",
      "\n",
      "\n",
      "class Thing(ConfiguredBaseModel):\n",
      "    linkml_meta: ClassVar[LinkMLMeta] = LinkMLMeta({'from_schema': 'https://example.org/'})\n",
      "\n",
      "    type: Literal[\"Thing\"] = Field(default=\"Thing\", json_schema_extra = { \"linkml_meta\": {'alias': 'type', 'designates_type': True, 'domain_of': ['Thing']} })\n",
      "\n",
      "\n",
      "class Building(Thing):\n",
      "    linkml_meta: ClassVar[LinkMLMeta] = LinkMLMeta({'from_schema': 'https://example.org/'})\n",
      "\n",
      "    num_floors: Optional[int] = Field(default=None, json_schema_extra = { \"linkml_meta\": {'alias': 'num_floors', 'domain_of': ['Building']} })\n",
      "    type: Literal[\"Building\"] = Field(default=\"Building\", json_schema_extra = { \"linkml_meta\": {'alias': 'type', 'designates_type': True, 'domain_of': ['Thing']} })\n",
      "\n",
      "\n",
      "class Vehicle(Thing):\n",
      "    linkml_meta: ClassVar[LinkMLMeta] = LinkMLMeta({'from_schema': 'https://example.org/'})\n",
      "\n",
      "    num_wheels: Optional[int] = Field(default=None, json_schema_extra = { \"linkml_meta\": {'alias': 'num_wheels', 'domain_of': ['Vehicle']} })\n",
      "    type: Literal[\"Vehicle\"] = Field(default=\"Vehicle\", json_schema_extra = { \"linkml_meta\": {'alias': 'type', 'designates_type': True, 'domain_of': ['Thing']} })\n",
      "\n",
      "\n",
      "class Bicycle(Vehicle):\n",
      "    linkml_meta: ClassVar[LinkMLMeta] = LinkMLMeta({'from_schema': 'https://example.org/',\n",
      "         'slot_usage': {'num_wheels': {'equals_expression': '4', 'name': 'num_wheels'}}})\n",
      "\n",
      "    num_wheels: Optional[int] = Field(default=None, json_schema_extra = { \"linkml_meta\": {'alias': 'num_wheels', 'domain_of': ['Vehicle'], 'equals_expression': '4'} })\n",
      "    type: Literal[\"Bicycle\"] = Field(default=\"Bicycle\", json_schema_extra = { \"linkml_meta\": {'alias': 'type', 'designates_type': True, 'domain_of': ['Thing']} })\n",
      "\n",
      "\n",
      "class Car(Vehicle):\n",
      "    linkml_meta: ClassVar[LinkMLMeta] = LinkMLMeta({'from_schema': 'https://example.org/',\n",
      "         'slot_usage': {'num_wheels': {'equals_expression': '2', 'name': 'num_wheels'}}})\n",
      "\n",
      "    num_wheels: Optional[int] = Field(default=None, json_schema_extra = { \"linkml_meta\": {'alias': 'num_wheels', 'domain_of': ['Vehicle'], 'equals_expression': '2'} })\n",
      "    type: Literal[\"Car\"] = Field(default=\"Car\", json_schema_extra = { \"linkml_meta\": {'alias': 'type', 'designates_type': True, 'domain_of': ['Thing']} })\n",
      "\n",
      "\n",
      "# Model rebuild\n",
      "# see https://pydantic-docs.helpmanual.io/usage/models/#rebuilding-a-model\n",
      "Container.model_rebuild()\n",
      "Thing.model_rebuild()\n",
      "Building.model_rebuild()\n",
      "Vehicle.model_rebuild()\n",
      "Bicycle.model_rebuild()\n",
      "Car.model_rebuild()\n",
      "\n"
     ]
    }
   ],
   "source": [
    "from logging import ERROR\n",
    "gen = PydanticGenerator(schema, log_level=ERROR)\n",
    "mod = gen.compile_module()\n",
    "print(gen.serialize())"
   ]
  },
  {
   "cell_type": "code",
   "execution_count": 21,
   "id": "2599c367",
   "metadata": {
    "execution": {
     "iopub.execute_input": "2025-04-18T01:03:41.556889Z",
     "iopub.status.busy": "2025-04-18T01:03:41.556718Z",
     "iopub.status.idle": "2025-04-18T01:03:41.558546Z",
     "shell.execute_reply": "2025-04-18T01:03:41.558189Z"
    }
   },
   "outputs": [],
   "source": [
    "# TODO: flatten unions"
   ]
  },
  {
   "cell_type": "code",
   "execution_count": 22,
   "id": "52a742f8",
   "metadata": {
    "execution": {
     "iopub.execute_input": "2025-04-18T01:03:41.560182Z",
     "iopub.status.busy": "2025-04-18T01:03:41.560054Z",
     "iopub.status.idle": "2025-04-18T01:03:41.562944Z",
     "shell.execute_reply": "2025-04-18T01:03:41.562508Z"
    }
   },
   "outputs": [
    {
     "data": {
      "text/plain": [
       "Container(things=[Vehicle(type='Vehicle', num_wheels=None)])"
      ]
     },
     "execution_count": 22,
     "metadata": {},
     "output_type": "execute_result"
    }
   ],
   "source": [
    "mod.Container.model_validate({\"things\": [{\"type\": \"Vehicle\"}]})"
   ]
  },
  {
   "cell_type": "code",
   "execution_count": 23,
   "id": "23f35fee",
   "metadata": {
    "execution": {
     "iopub.execute_input": "2025-04-18T01:03:41.564625Z",
     "iopub.status.busy": "2025-04-18T01:03:41.564472Z",
     "iopub.status.idle": "2025-04-18T01:03:41.566233Z",
     "shell.execute_reply": "2025-04-18T01:03:41.565921Z"
    }
   },
   "outputs": [],
   "source": [
    "# TODO: expressions"
   ]
  },
  {
   "cell_type": "markdown",
   "id": "da4ea59b",
   "metadata": {},
   "source": [
    "## Union Of"
   ]
  },
  {
   "cell_type": "code",
   "execution_count": 24,
   "id": "7d897da4",
   "metadata": {
    "execution": {
     "iopub.execute_input": "2025-04-18T01:03:41.567877Z",
     "iopub.status.busy": "2025-04-18T01:03:41.567735Z",
     "iopub.status.idle": "2025-04-18T01:03:41.572751Z",
     "shell.execute_reply": "2025-04-18T01:03:41.572380Z"
    }
   },
   "outputs": [
    {
     "data": {
      "application/javascript": [
       "\n",
       "            require(\n",
       "                [\n",
       "                    \"notebook/js/codecell\",\n",
       "                    \"codemirror/mode/yaml/yaml\"\n",
       "                ],\n",
       "                function(cc){\n",
       "                    cc.CodeCell.options_default.highlight_modes.magic_yaml = {\n",
       "                        reg: [\"^%%yaml\"]\n",
       "                    }\n",
       "                }\n",
       "            );\n",
       "            "
      ],
      "text/plain": [
       "<IPython.core.display.Javascript object>"
      ]
     },
     "metadata": {},
     "output_type": "display_data"
    }
   ],
   "source": [
    "%%yaml model\n",
    "id: https://example.org/\n",
    "name: example\n",
    "prefixes:\n",
    "  example: https://example.org/\n",
    "  linkml: https://w3id.org/linkml/\n",
    "default_prefix: example\n",
    "imports:\n",
    "  - linkml:types\n",
    "\n",
    "classes:\n",
    "  Thing:\n",
    "    attributes:\n",
    "      type:\n",
    "        designates_type: true\n",
    "        range: string\n",
    "  Vehicle:\n",
    "    is_a: Thing\n",
    "    attributes:\n",
    "      num_wheels:\n",
    "        range: integer\n",
    "  Car:\n",
    "    is_a: Vehicle\n",
    "    slot_usage:\n",
    "      num_wheels:\n",
    "        equals_expression: \"2\"\n",
    "  Bicycle:\n",
    "    is_a: Vehicle\n",
    "    slot_usage:\n",
    "      num_wheels:\n",
    "        equals_expression: \"4\"\n",
    "  Building:\n",
    "    is_a: Thing\n",
    "    attributes:\n",
    "      num_floors:\n",
    "        range: integer\n",
    "        \n",
    "  Container:\n",
    "    attributes:\n",
    "      things:\n",
    "        any_of:\n",
    "          - range: Vehicle\n",
    "          - range: Building\n",
    "        multivalued: true\n",
    "    "
   ]
  }
 ],
 "metadata": {
  "kernelspec": {
   "display_name": "Python 3 (ipykernel)",
   "language": "python",
   "name": "python3"
  },
  "language_info": {
   "codemirror_mode": {
    "name": "ipython",
    "version": 3
   },
   "file_extension": ".py",
   "mimetype": "text/x-python",
   "name": "python",
   "nbconvert_exporter": "python",
   "pygments_lexer": "ipython3",
   "version": "3.11.6"
  }
 },
 "nbformat": 4,
 "nbformat_minor": 5
}
